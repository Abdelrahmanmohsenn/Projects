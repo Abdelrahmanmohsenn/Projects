#!pip install pandas==1.3.3
#!pip install requests==2.26.0
!mamba install bs4==4.10.0 -y
!mamba install html5lib==1.1 -y 
!pip install lxml==4.6.4
#!pip install plotly==5.3.1
import pandas as pd
import requests
from bs4 import BeautifulSoup
import warnings
# Ignore all warnings
warnings.filterwarnings("ignore", category=FutureWarning)
url = "https://cf-courses-data.s3.us.cloud-object-storage.appdomain.cloud/IBMDeveloperSkillsNetwork-PY0220EN-SkillsNetwork/labs/project/netflix_data_webpage.html"
data  = requests.get(url).text
print(data)
soup = BeautifulSoup(data, 'html5lib')
netflix_data = pd.DataFrame(columns=["Date", "Open", "High", "Low", "Close", "Volume"])
# First we isolate the body of the table which contains all the information
# Then we loop through each row and find all the column values for each row
for row in soup.find("tbody").find_all('tr'):
    col = row.find_all("td")
    date = col[0].text
    Open = col[1].text
    high = col[2].text
    low = col[3].text
    close = col[4].text
    adj_close = col[5].text
    volume = col[6].text
    
    # Finally we append the data of each row to the table
    netflix_data = netflix_data.append({"Date":date, "Open":Open, "High":high, "Low":low, "Close":close, "Adj Close":adj_close, "Volume":volume}, ignore_index=True)    

netflix_data.head()

read_html_pandas_data = pd.read_html(url)

read_html_pandas_data = pd.read_html(str(soup))

netflix_dataframe = read_html_pandas_data[0]

netflix_dataframe.head()

import requests
url = "https://cf-courses-data.s3.us.cloud-object-storage.appdomain.cloud/IBMDeveloperSkillsNetwork-PY0220EN-SkillsNetwork/labs/project/amazon_data_webpage.html"
response = requests.get(url)
html_data = response.text
from bs4 import BeautifulSoup
soup = BeautifulSoup(html_data, 'html.parser')

title = soup.title.string
title
import pandas as pd
data = []
for row in soup.find("tbody").find_all("tr"):
    col = row.find_all("td")  
    date = col[0].text.strip()
    Open = float(col[1].text.strip().replace(',', '')) 
    high = float(col[2].text.strip().replace(',', '')) 
    low = float(col[3].text.strip().replace(',', '')) 
    close = float(col[4].text.strip().replace(',', '')) 
    adj_close = float(col[5].text.strip().replace(',', '')) 
    volume = int(col[6].text.strip().replace(',', '')) 
    
    data.append({"Date": date, "Open": Open, "High": high, "Low": low, "Close": close, "Adj Close": adj_close, "Volume": volume})

amazon_data = pd.DataFrame(data)
amazon_data
print(amazon_data.head())


print(amazon_data.head())


last_open = amazon_data["Open"].iloc[-1]
print(last_open)
